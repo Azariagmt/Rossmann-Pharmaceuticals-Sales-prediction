{
 "cells": [
  {
   "cell_type": "code",
   "execution_count": null,
   "source": [
    "import numpy as np\r\n",
    "import pandas as pd\r\n",
    "import matplotlib.pyplot as plt\r\n",
    "from matplotlib.gridspec import GridSpec\r\n",
    "from matplotlib import ticker\r\n",
    "# from statsmodels.tsa.stattools import adfuller, acf, pacf\r\n",
    "from sklearn.preprocessing import MinMaxScaler\r\n",
    "import tensorflow as tf\r\n",
    "from tensorflow.keras.models import Sequential\r\n",
    "from tensorflow.keras.layers import Dense\r\n",
    "from tensorflow.keras.layers import LSTM\r\n",
    "\r\n",
    "time_series_data = pd.read_csv('../rossmann-store-sales/train.csv',\r\n",
    "                               index_col=\"Date\", parse_dates=True)\r\n",
    "time_series_data = time_series_data['Sales']\r\n",
    "time_series_data = pd.DataFrame({\r\n",
    "    \"Date\": time_series_data.index,\r\n",
    "    \"Sales\": time_series_data.Sales\r\n",
    "})\r\n",
    "time_series_data = time_series_data.set_index(\"Date\")\r\n",
    "print(time_series_data.head())\r\n",
    "\r\n",
    "scaler = MinMaxScaler()\r\n",
    "scaler.fit(time_series_data.Sales.values.reshape([-1, 1]))\r\n",
    "sales_scaled = scaler.transform(time_series_data.Sales.values.reshape(-1, 1))\r\n",
    "time_series_data['SalesScaled'] = sales_scaled\r\n",
    "print(time_series_data.tail(10))\r\n"
   ],
   "outputs": [],
   "metadata": {}
  },
  {
   "cell_type": "code",
   "execution_count": null,
   "source": [
    "fig = plt.figure()\r\n",
    "gs = GridSpec(2, 1, figure=fig)\r\n",
    "\r\n",
    "fig.set_figheight(20)\r\n",
    "fig.set_figwidth(30)\r\n",
    "fig.tight_layout(pad=15)\r\n",
    "\r\n",
    "M = 100\r\n",
    "xticks = ticker.MaxNLocator(M)\r\n",
    "\r\n",
    "ax1 = fig.add_subplot(gs[0,0])\r\n",
    "ax1.plot(houseSales.index, houseSales.Sales, 'b-')\r\n",
    "ax1.xaxis.set_major_locator(xticks)\r\n",
    "ax1.tick_params(labelrotation=90)\r\n",
    "ax1.set_xlabel('Date')\r\n",
    "ax1.set_ylabel('Thousands of Units')\r\n",
    "ax1.title.set_text('Time Series Plot of House Sales')\r\n",
    "ax1.grid(True)\r\n",
    "\r\n",
    "ax2 = fig.add_subplot(gs[1,0])\r\n",
    "ax2.plot(houseSales.index, houseSales.HouseSalesScaled, 'g-')\r\n",
    "ax2.xaxis.set_major_locator(xticks)\r\n",
    "ax2.tick_params(labelrotation=90)\r\n",
    "ax2.set_xlabel('Date')\r\n",
    "ax2.set_ylabel('Scaled Units')\r\n",
    "ax2.title.set_text('Time Series Plot of Min Max Scaled House Sales')\r\n",
    "ax2.grid(True)\r\n",
    "plt.show()"
   ],
   "outputs": [],
   "metadata": {}
  }
 ],
 "metadata": {
  "orig_nbformat": 4,
  "language_info": {
   "name": "python",
   "version": "3.9.5"
  },
  "kernelspec": {
   "name": "python3",
   "display_name": "Python 3.9.5 64-bit ('dvc': conda)"
  },
  "interpreter": {
   "hash": "0a1cff8ac17b14926053fc670e1ff3c02a52cd16c87840c0fcb74ab5af8a2e72"
  }
 },
 "nbformat": 4,
 "nbformat_minor": 2
}